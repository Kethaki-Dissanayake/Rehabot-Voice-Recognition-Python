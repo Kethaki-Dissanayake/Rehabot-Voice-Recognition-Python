{
 "cells": [
  {
   "cell_type": "code",
   "execution_count": 1,
   "id": "3cb55bfd",
   "metadata": {},
   "outputs": [],
   "source": [
    "import speech_recognition as sr\n",
    "import pyttsx3 as pt"
   ]
  },
  {
   "cell_type": "code",
   "execution_count": 2,
   "id": "6788abac",
   "metadata": {},
   "outputs": [],
   "source": [
    "#initialize\n",
    "r = sr.Recognizer()\n",
    "t = pt.init()"
   ]
  },
  {
   "cell_type": "code",
   "execution_count": 3,
   "id": "bf5fce9b",
   "metadata": {},
   "outputs": [],
   "source": [
    "#Voice Converter male to female\n",
    "voices = t.getProperty('voices')\n",
    "t.setProperty('voice', voices[1].id)"
   ]
  },
  {
   "cell_type": "code",
   "execution_count": 4,
   "id": "ca9496e0",
   "metadata": {},
   "outputs": [],
   "source": [
    "t.say(\"Hello Here is your Rehabot\")\n",
    "t.say(\"Give your Command now to operate\")\n",
    "t.runAndWait()"
   ]
  },
  {
   "cell_type": "markdown",
   "id": "dcd27f1b",
   "metadata": {},
   "source": [
    "## Convert Speech to Text\n"
   ]
  },
  {
   "cell_type": "code",
   "execution_count": 5,
   "id": "724e3fa2",
   "metadata": {},
   "outputs": [
    {
     "name": "stdout",
     "output_type": "stream",
     "text": [
      "Listening....\n",
      "Listening....\n",
      "Listening....\n",
      "Command : new start\n",
      "Listening....\n",
      "Listening....\n",
      "Listening....\n",
      "Listening....\n",
      "Thank you for your Command\n"
     ]
    }
   ],
   "source": [
    "while True:\n",
    "    with sr.Microphone() as source:\n",
    "        \n",
    "        #Clear background noise\n",
    "        r.adjust_for_ambient_noise(source, duration=0.3)\n",
    "        \n",
    "        print(\"Listening....\")\n",
    "        \n",
    "        #Capture the audio\n",
    "        audio = r.listen(source)\n",
    "        \n",
    "        def get_command():\n",
    "            try:\n",
    "                text = r.recognize_google(audio)\n",
    "                text = text.lower()\n",
    "            \n",
    "                if 'start' in text: \n",
    "                    print(\"Command :\", text)\n",
    "            \n",
    "                if text == 'ok':\n",
    "                    print(\"Thank you for your Command\")\n",
    "                    break\n",
    "               \n",
    "            except:\n",
    "                print(\"Please try again!!\")\n",
    "            return text"
   ]
  },
  {
   "cell_type": "code",
   "execution_count": null,
   "id": "1f13c8c5",
   "metadata": {},
   "outputs": [],
   "source": []
  },
  {
   "cell_type": "code",
   "execution_count": null,
   "id": "5a21e4fc",
   "metadata": {},
   "outputs": [],
   "source": []
  }
 ],
 "metadata": {
  "kernelspec": {
   "display_name": "Python 3",
   "language": "python",
   "name": "python3"
  },
  "language_info": {
   "codemirror_mode": {
    "name": "ipython",
    "version": 3
   },
   "file_extension": ".py",
   "mimetype": "text/x-python",
   "name": "python",
   "nbconvert_exporter": "python",
   "pygments_lexer": "ipython3",
   "version": "3.8.8"
  }
 },
 "nbformat": 4,
 "nbformat_minor": 5
}
